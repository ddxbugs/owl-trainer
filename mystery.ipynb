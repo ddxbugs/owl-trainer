{
 "cells": [
  {
   "attachments": {},
   "cell_type": "markdown",
   "metadata": {},
   "source": [
    "# OWL-trainer \n",
    "### Mystery Heroes Exploratory Data Analysis \n",
    "version 0.1.0"
   ]
  },
  {
   "cell_type": "code",
   "execution_count": 215,
   "metadata": {},
   "outputs": [],
   "source": [
    "# import libraries\n",
    "import numpy as np\n",
    "import pandas as pd\n",
    "import matplotlib.pyplot as plt\n",
    "import statsmodels.api as sm"
   ]
  },
  {
   "cell_type": "code",
   "execution_count": 216,
   "metadata": {},
   "outputs": [
    {
     "data": {
      "text/html": [
       "<div>\n",
       "<style scoped>\n",
       "    .dataframe tbody tr th:only-of-type {\n",
       "        vertical-align: middle;\n",
       "    }\n",
       "\n",
       "    .dataframe tbody tr th {\n",
       "        vertical-align: top;\n",
       "    }\n",
       "\n",
       "    .dataframe thead th {\n",
       "        text-align: right;\n",
       "    }\n",
       "</style>\n",
       "<table border=\"1\" class=\"dataframe\">\n",
       "  <thead>\n",
       "    <tr style=\"text-align: right;\">\n",
       "      <th></th>\n",
       "      <th>Elimination</th>\n",
       "      <th>Assist</th>\n",
       "      <th>Death</th>\n",
       "      <th>Damage</th>\n",
       "      <th>Heal</th>\n",
       "      <th>Mitigation</th>\n",
       "    </tr>\n",
       "  </thead>\n",
       "  <tbody>\n",
       "    <tr>\n",
       "      <th>0</th>\n",
       "      <td>10</td>\n",
       "      <td>5</td>\n",
       "      <td>1</td>\n",
       "      <td>5131</td>\n",
       "      <td>1943</td>\n",
       "      <td>6569</td>\n",
       "    </tr>\n",
       "    <tr>\n",
       "      <th>1</th>\n",
       "      <td>9</td>\n",
       "      <td>3</td>\n",
       "      <td>3</td>\n",
       "      <td>3197</td>\n",
       "      <td>5455</td>\n",
       "      <td>254</td>\n",
       "    </tr>\n",
       "    <tr>\n",
       "      <th>2</th>\n",
       "      <td>8</td>\n",
       "      <td>1</td>\n",
       "      <td>1</td>\n",
       "      <td>5103</td>\n",
       "      <td>61</td>\n",
       "      <td>79</td>\n",
       "    </tr>\n",
       "    <tr>\n",
       "      <th>3</th>\n",
       "      <td>9</td>\n",
       "      <td>1</td>\n",
       "      <td>4</td>\n",
       "      <td>2596</td>\n",
       "      <td>716</td>\n",
       "      <td>416</td>\n",
       "    </tr>\n",
       "    <tr>\n",
       "      <th>4</th>\n",
       "      <td>11</td>\n",
       "      <td>5</td>\n",
       "      <td>2</td>\n",
       "      <td>7316</td>\n",
       "      <td>1922</td>\n",
       "      <td>890</td>\n",
       "    </tr>\n",
       "    <tr>\n",
       "      <th>...</th>\n",
       "      <td>...</td>\n",
       "      <td>...</td>\n",
       "      <td>...</td>\n",
       "      <td>...</td>\n",
       "      <td>...</td>\n",
       "      <td>...</td>\n",
       "    </tr>\n",
       "    <tr>\n",
       "      <th>141</th>\n",
       "      <td>17</td>\n",
       "      <td>6</td>\n",
       "      <td>7</td>\n",
       "      <td>6310</td>\n",
       "      <td>2925</td>\n",
       "      <td>1354</td>\n",
       "    </tr>\n",
       "    <tr>\n",
       "      <th>142</th>\n",
       "      <td>24</td>\n",
       "      <td>3</td>\n",
       "      <td>3</td>\n",
       "      <td>7498</td>\n",
       "      <td>0</td>\n",
       "      <td>1973</td>\n",
       "    </tr>\n",
       "    <tr>\n",
       "      <th>143</th>\n",
       "      <td>20</td>\n",
       "      <td>6</td>\n",
       "      <td>4</td>\n",
       "      <td>5335</td>\n",
       "      <td>729</td>\n",
       "      <td>1501</td>\n",
       "    </tr>\n",
       "    <tr>\n",
       "      <th>144</th>\n",
       "      <td>14</td>\n",
       "      <td>1</td>\n",
       "      <td>9</td>\n",
       "      <td>5602</td>\n",
       "      <td>200</td>\n",
       "      <td>716</td>\n",
       "    </tr>\n",
       "    <tr>\n",
       "      <th>145</th>\n",
       "      <td>14</td>\n",
       "      <td>11</td>\n",
       "      <td>6</td>\n",
       "      <td>5006</td>\n",
       "      <td>5281</td>\n",
       "      <td>1400</td>\n",
       "    </tr>\n",
       "  </tbody>\n",
       "</table>\n",
       "<p>146 rows × 6 columns</p>\n",
       "</div>"
      ],
      "text/plain": [
       "     Elimination  Assist  Death  Damage  Heal  Mitigation\n",
       "0             10       5      1    5131  1943        6569\n",
       "1              9       3      3    3197  5455         254\n",
       "2              8       1      1    5103    61          79\n",
       "3              9       1      4    2596   716         416\n",
       "4             11       5      2    7316  1922         890\n",
       "..           ...     ...    ...     ...   ...         ...\n",
       "141           17       6      7    6310  2925        1354\n",
       "142           24       3      3    7498     0        1973\n",
       "143           20       6      4    5335   729        1501\n",
       "144           14       1      9    5602   200         716\n",
       "145           14      11      6    5006  5281        1400\n",
       "\n",
       "[146 rows x 6 columns]"
      ]
     },
     "execution_count": 216,
     "metadata": {},
     "output_type": "execute_result"
    }
   ],
   "source": [
    "# load the data\n",
    "data = pd.read_csv('mystery.csv')\n",
    "data"
   ]
  },
  {
   "cell_type": "code",
   "execution_count": 217,
   "metadata": {},
   "outputs": [
    {
     "data": {
      "text/html": [
       "<div>\n",
       "<style scoped>\n",
       "    .dataframe tbody tr th:only-of-type {\n",
       "        vertical-align: middle;\n",
       "    }\n",
       "\n",
       "    .dataframe tbody tr th {\n",
       "        vertical-align: top;\n",
       "    }\n",
       "\n",
       "    .dataframe thead th {\n",
       "        text-align: right;\n",
       "    }\n",
       "</style>\n",
       "<table border=\"1\" class=\"dataframe\">\n",
       "  <thead>\n",
       "    <tr style=\"text-align: right;\">\n",
       "      <th></th>\n",
       "      <th>Elimination</th>\n",
       "      <th>Assist</th>\n",
       "      <th>Death</th>\n",
       "      <th>Damage</th>\n",
       "      <th>Heal</th>\n",
       "      <th>Mitigation</th>\n",
       "    </tr>\n",
       "  </thead>\n",
       "  <tbody>\n",
       "    <tr>\n",
       "      <th>count</th>\n",
       "      <td>146.000000</td>\n",
       "      <td>146.000000</td>\n",
       "      <td>146.000000</td>\n",
       "      <td>146.000000</td>\n",
       "      <td>146.000000</td>\n",
       "      <td>146.000000</td>\n",
       "    </tr>\n",
       "    <tr>\n",
       "      <th>mean</th>\n",
       "      <td>12.952055</td>\n",
       "      <td>4.493151</td>\n",
       "      <td>5.458904</td>\n",
       "      <td>4401.842466</td>\n",
       "      <td>1815.404110</td>\n",
       "      <td>1747.013699</td>\n",
       "    </tr>\n",
       "    <tr>\n",
       "      <th>std</th>\n",
       "      <td>7.099618</td>\n",
       "      <td>4.251161</td>\n",
       "      <td>3.242236</td>\n",
       "      <td>1919.181286</td>\n",
       "      <td>1721.125031</td>\n",
       "      <td>1765.558929</td>\n",
       "    </tr>\n",
       "    <tr>\n",
       "      <th>min</th>\n",
       "      <td>0.000000</td>\n",
       "      <td>0.000000</td>\n",
       "      <td>0.000000</td>\n",
       "      <td>145.000000</td>\n",
       "      <td>0.000000</td>\n",
       "      <td>0.000000</td>\n",
       "    </tr>\n",
       "    <tr>\n",
       "      <th>25%</th>\n",
       "      <td>7.250000</td>\n",
       "      <td>1.250000</td>\n",
       "      <td>3.000000</td>\n",
       "      <td>2882.000000</td>\n",
       "      <td>379.750000</td>\n",
       "      <td>464.750000</td>\n",
       "    </tr>\n",
       "    <tr>\n",
       "      <th>50%</th>\n",
       "      <td>13.000000</td>\n",
       "      <td>3.000000</td>\n",
       "      <td>5.000000</td>\n",
       "      <td>4106.500000</td>\n",
       "      <td>1372.000000</td>\n",
       "      <td>1150.000000</td>\n",
       "    </tr>\n",
       "    <tr>\n",
       "      <th>75%</th>\n",
       "      <td>17.750000</td>\n",
       "      <td>6.000000</td>\n",
       "      <td>8.000000</td>\n",
       "      <td>5332.000000</td>\n",
       "      <td>3010.000000</td>\n",
       "      <td>2503.750000</td>\n",
       "    </tr>\n",
       "    <tr>\n",
       "      <th>max</th>\n",
       "      <td>34.000000</td>\n",
       "      <td>27.000000</td>\n",
       "      <td>13.000000</td>\n",
       "      <td>9477.000000</td>\n",
       "      <td>7655.000000</td>\n",
       "      <td>10246.000000</td>\n",
       "    </tr>\n",
       "  </tbody>\n",
       "</table>\n",
       "</div>"
      ],
      "text/plain": [
       "       Elimination      Assist       Death       Damage         Heal  \\\n",
       "count   146.000000  146.000000  146.000000   146.000000   146.000000   \n",
       "mean     12.952055    4.493151    5.458904  4401.842466  1815.404110   \n",
       "std       7.099618    4.251161    3.242236  1919.181286  1721.125031   \n",
       "min       0.000000    0.000000    0.000000   145.000000     0.000000   \n",
       "25%       7.250000    1.250000    3.000000  2882.000000   379.750000   \n",
       "50%      13.000000    3.000000    5.000000  4106.500000  1372.000000   \n",
       "75%      17.750000    6.000000    8.000000  5332.000000  3010.000000   \n",
       "max      34.000000   27.000000   13.000000  9477.000000  7655.000000   \n",
       "\n",
       "         Mitigation  \n",
       "count    146.000000  \n",
       "mean    1747.013699  \n",
       "std     1765.558929  \n",
       "min        0.000000  \n",
       "25%      464.750000  \n",
       "50%     1150.000000  \n",
       "75%     2503.750000  \n",
       "max    10246.000000  "
      ]
     },
     "execution_count": 217,
     "metadata": {},
     "output_type": "execute_result"
    }
   ],
   "source": [
    "data.describe()"
   ]
  },
  {
   "attachments": {},
   "cell_type": "markdown",
   "metadata": {},
   "source": [
    "### Create Regression Model"
   ]
  },
  {
   "cell_type": "code",
   "execution_count": 218,
   "metadata": {},
   "outputs": [],
   "source": [
    "y = data['Elimination']\n",
    "x1 = data['Death']"
   ]
  },
  {
   "cell_type": "code",
   "execution_count": 219,
   "metadata": {},
   "outputs": [
    {
     "data": {
      "image/png": "[encoded data removed]",
      "text/plain": [
       "<Figure size 640x480 with 1 Axes>"
      ]
     },
     "metadata": {},
     "output_type": "display_data"
    }
   ],
   "source": [
    "# plot x,y variables\n",
    "plt.scatter(x1,y)\n",
    "plt.title('K/D Ratio Plot, n=146', fontsize=10)\n",
    "plt.xlabel('Death',fontsize=10)\n",
    "plt.ylabel('Elimination',fontsize=10)\n",
    "plt.show()"
   ]
  },
  {
   "cell_type": "code",
   "execution_count": 220,
   "metadata": {},
   "outputs": [
    {
     "data": {
      "text/html": [
       "<table class=\"simpletable\">\n",
       "<caption>OLS Regression Results</caption>\n",
       "<tr>\n",
       "  <th>Dep. Variable:</th>       <td>Elimination</td>   <th>  R-squared:         </th> <td>   0.017</td>\n",
       "</tr>\n",
       "<tr>\n",
       "  <th>Model:</th>                   <td>OLS</td>       <th>  Adj. R-squared:    </th> <td>   0.010</td>\n",
       "</tr>\n",
       "<tr>\n",
       "  <th>Method:</th>             <td>Least Squares</td>  <th>  F-statistic:       </th> <td>   2.421</td>\n",
       "</tr>\n",
       "<tr>\n",
       "  <th>Date:</th>             <td>Fri, 17 Mar 2023</td> <th>  Prob (F-statistic):</th>  <td> 0.122</td> \n",
       "</tr>\n",
       "<tr>\n",
       "  <th>Time:</th>                 <td>13:41:42</td>     <th>  Log-Likelihood:    </th> <td> -491.61</td>\n",
       "</tr>\n",
       "<tr>\n",
       "  <th>No. Observations:</th>      <td>   146</td>      <th>  AIC:               </th> <td>   987.2</td>\n",
       "</tr>\n",
       "<tr>\n",
       "  <th>Df Residuals:</th>          <td>   144</td>      <th>  BIC:               </th> <td>   993.2</td>\n",
       "</tr>\n",
       "<tr>\n",
       "  <th>Df Model:</th>              <td>     1</td>      <th>                     </th>     <td> </td>   \n",
       "</tr>\n",
       "<tr>\n",
       "  <th>Covariance Type:</th>      <td>nonrobust</td>    <th>                     </th>     <td> </td>   \n",
       "</tr>\n",
       "</table>\n",
       "<table class=\"simpletable\">\n",
       "<tr>\n",
       "    <td></td>       <th>coef</th>     <th>std err</th>      <th>t</th>      <th>P>|t|</th>  <th>[0.025</th>    <th>0.975]</th>  \n",
       "</tr>\n",
       "<tr>\n",
       "  <th>const</th> <td>   11.4149</td> <td>    1.148</td> <td>    9.944</td> <td> 0.000</td> <td>    9.146</td> <td>   13.684</td>\n",
       "</tr>\n",
       "<tr>\n",
       "  <th>Death</th> <td>    0.2816</td> <td>    0.181</td> <td>    1.556</td> <td> 0.122</td> <td>   -0.076</td> <td>    0.639</td>\n",
       "</tr>\n",
       "</table>\n",
       "<table class=\"simpletable\">\n",
       "<tr>\n",
       "  <th>Omnibus:</th>       <td> 2.767</td> <th>  Durbin-Watson:     </th> <td>   1.118</td>\n",
       "</tr>\n",
       "<tr>\n",
       "  <th>Prob(Omnibus):</th> <td> 0.251</td> <th>  Jarque-Bera (JB):  </th> <td>   2.805</td>\n",
       "</tr>\n",
       "<tr>\n",
       "  <th>Skew:</th>          <td> 0.307</td> <th>  Prob(JB):          </th> <td>   0.246</td>\n",
       "</tr>\n",
       "<tr>\n",
       "  <th>Kurtosis:</th>      <td> 2.711</td> <th>  Cond. No.          </th> <td>    12.7</td>\n",
       "</tr>\n",
       "</table><br/><br/>Notes:<br/>[1] Standard Errors assume that the covariance matrix of the errors is correctly specified."
      ],
      "text/plain": [
       "<class 'statsmodels.iolib.summary.Summary'>\n",
       "\"\"\"\n",
       "                            OLS Regression Results                            \n",
       "==============================================================================\n",
       "Dep. Variable:            Elimination   R-squared:                       0.017\n",
       "Model:                            OLS   Adj. R-squared:                  0.010\n",
       "Method:                 Least Squares   F-statistic:                     2.421\n",
       "Date:                Fri, 17 Mar 2023   Prob (F-statistic):              0.122\n",
       "Time:                        13:41:42   Log-Likelihood:                -491.61\n",
       "No. Observations:                 146   AIC:                             987.2\n",
       "Df Residuals:                     144   BIC:                             993.2\n",
       "Df Model:                           1                                         \n",
       "Covariance Type:            nonrobust                                         \n",
       "==============================================================================\n",
       "                 coef    std err          t      P>|t|      [0.025      0.975]\n",
       "------------------------------------------------------------------------------\n",
       "const         11.4149      1.148      9.944      0.000       9.146      13.684\n",
       "Death          0.2816      0.181      1.556      0.122      -0.076       0.639\n",
       "==============================================================================\n",
       "Omnibus:                        2.767   Durbin-Watson:                   1.118\n",
       "Prob(Omnibus):                  0.251   Jarque-Bera (JB):                2.805\n",
       "Skew:                           0.307   Prob(JB):                        0.246\n",
       "Kurtosis:                       2.711   Cond. No.                         12.7\n",
       "==============================================================================\n",
       "\n",
       "Notes:\n",
       "[1] Standard Errors assume that the covariance matrix of the errors is correctly specified.\n",
       "\"\"\""
      ]
     },
     "execution_count": 220,
     "metadata": {},
     "output_type": "execute_result"
    }
   ],
   "source": [
    "x = sm.add_constant(x1)\n",
    "results = sm.OLS(y,x).fit()\n",
    "results.summary()"
   ]
  },
  {
   "attachments": {},
   "cell_type": "markdown",
   "metadata": {},
   "source": [
    "### Scatter Plot: Elimination/Death Ratio (E/D)"
   ]
  },
  {
   "cell_type": "code",
   "execution_count": 221,
   "metadata": {},
   "outputs": [
    {
     "data": {
      "image/png": "[encoded data removed]",
      "text/plain": [
       "<Figure size 640x480 with 1 Axes>"
      ]
     },
     "metadata": {},
     "output_type": "display_data"
    }
   ],
   "source": [
    "plt.scatter(x1,y)\n",
    "coef_1 = 0.2816\n",
    "coef_2 = 11.4149\n",
    "yhat = coef_1 * x1 + coef_2\n",
    "fig = plt.plot(x1, yhat, lw=4, c='orange', label='regression_line')\n",
    "plt.title('E/D Ratio Best Fit Line (OLS), n=146', fontsize=10)\n",
    "plt.xlabel('Death', fontsize=10)\n",
    "plt.ylabel('Elimination', fontsize=10)\n",
    "plt.show()"
   ]
  },
  {
   "attachments": {},
   "cell_type": "markdown",
   "metadata": {},
   "source": [
    "### Box Plot: Elimination"
   ]
  },
  {
   "cell_type": "code",
   "execution_count": 222,
   "metadata": {},
   "outputs": [
    {
     "data": {
      "image/png": "[encoded data removed]",
      "text/plain": [
       "<Figure size 640x480 with 1 Axes>"
      ]
     },
     "metadata": {},
     "output_type": "display_data"
    }
   ],
   "source": [
    "bp1 = data['Elimination']\n",
    "plt.boxplot(bp1)\n",
    "plt.title('Box Plot of Mystery Match Eliminations, n=146', fontsize=10)\n",
    "plt.ylabel('Number of Eliminations', fontsize=10)\n",
    "plt.show()"
   ]
  },
  {
   "attachments": {},
   "cell_type": "markdown",
   "metadata": {},
   "source": [
    "### Histogram: Elimination"
   ]
  },
  {
   "cell_type": "code",
   "execution_count": 223,
   "metadata": {},
   "outputs": [
    {
     "data": {
      "image/png": "[encoded data removed]",
      "text/plain": [
       "<Figure size 640x480 with 1 Axes>"
      ]
     },
     "metadata": {},
     "output_type": "display_data"
    }
   ],
   "source": [
    "h1 = data['Elimination']\n",
    "plt.hist(h1)\n",
    "plt.title('Histogram of Mystery Match Eliminations, n = 146', fontsize=10)\n",
    "plt.ylabel('Number of Players (146 players)', fontsize=10)\n",
    "plt.xlabel('Per.Match.Result (16 matches)', fontsize=10)\n",
    "plt.show()"
   ]
  }
 ],
 "metadata": {
  "kernelspec": {
   "display_name": "Python 3",
   "language": "python",
   "name": "python3"
  },
  "language_info": {
   "codemirror_mode": {
    "name": "ipython",
    "version": 3
   },
   "file_extension": ".py",
   "mimetype": "text/x-python",
   "name": "python",
   "nbconvert_exporter": "python",
   "pygments_lexer": "ipython3",
   "version": "3.10.10"
  },
  "orig_nbformat": 4,
  "vscode": {
   "interpreter": {
    "hash": "3b7e9cb8e453d6cda0fe8c8dd13f891a1f09162f0e7c66ffeae7751a7aecf00d"
   }
  }
 },
 "nbformat": 4,
 "nbformat_minor": 2
}
