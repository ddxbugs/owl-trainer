{
 "cells": [
  {
   "cell_type": "code",
   "execution_count": 2,
   "metadata": {},
   "outputs": [],
   "source": [
    "# import necessary libraries\n",
    "import numpy as np\n",
    "import pandas as pd"
   ]
  },
  {
   "cell_type": "code",
   "execution_count": 10,
   "metadata": {},
   "outputs": [
    {
     "name": "stdout",
     "output_type": "stream",
     "text": [
      "group_id        0\n",
      "map_name        0\n",
      "comp            0\n",
      "result          0\n",
      "final_score    20\n",
      "game_mode       0\n",
      "game_length     0\n",
      "team            0\n",
      "elimination     0\n",
      "assist          0\n",
      "death           0\n",
      "damage          0\n",
      "heal            0\n",
      "mitigation      0\n",
      "dtype: int64\n"
     ]
    }
   ],
   "source": [
    "# load mystery dataset\n",
    "dataset = pd.read_csv('data/mystery.csv')\n",
    "# preprocess dataset\n",
    "X = dataset.drop(['result', 'final_score'], axis=1) # TODO transform final_score\n",
    "y = dataset['result']\n",
    "# identify missing data (assumes missing data is NaN)\n",
    "missing_data = dataset.isnull().sum()\n",
    "print(missing_data)"
   ]
  },
  {
   "cell_type": "code",
   "execution_count": 9,
   "metadata": {},
   "outputs": [],
   "source": [
    "# configure instance of simpleimputer\n",
    "from sklearn.impute import SimpleImputer\n",
    "imputer = SimpleImputer(missing_values=np.nan, strategy=\"mean\")\n",
    "# imputer.fit(dataset)\n",
    "# dataset = imputer.transform(dataset)"
   ]
  },
  {
   "cell_type": "code",
   "execution_count": null,
   "metadata": {},
   "outputs": [],
   "source": [
    "# identify categorical data\n",
    "categorical_features = ['map_name', 'comp', 'game_mode', 'team']\n",
    "\n",
    "# implement instance of columntransformer\n",
    "from sklearn.compose import ColumnTransformer\n",
    "from sklearn.preprocessing import OneHotEncoder\n",
    "ct = ColumnTransformer(['encoding', OneHotEncoder(), categorical_features], remainder='passthrough')\n",
    "# apply the fit_transform method on instance of column transformer\n",
    "X = ct.fit_transform(dataset)\n",
    "# convert output into a numpy array\n",
    "X = np.array(X)\n",
    "\n",
    "# use labelencoder to encode binary categorical data\n",
    "from sklearn.preprocessing import LabelEncoder\n",
    "le = LabelEncoder()\n",
    "y = le.fit_transform(dataset['result'])"
   ]
  }
 ],
 "metadata": {
  "kernelspec": {
   "display_name": "Python 3",
   "language": "python",
   "name": "python3"
  },
  "language_info": {
   "codemirror_mode": {
    "name": "ipython",
    "version": 3
   },
   "file_extension": ".py",
   "mimetype": "text/x-python",
   "name": "python",
   "nbconvert_exporter": "python",
   "pygments_lexer": "ipython3",
   "version": "3.10.11"
  }
 },
 "nbformat": 4,
 "nbformat_minor": 2
}
